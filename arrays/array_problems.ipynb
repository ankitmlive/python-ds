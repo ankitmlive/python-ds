{
 "cells": [
  {
   "cell_type": "code",
   "execution_count": 16,
   "metadata": {},
   "outputs": [
    {
     "name": "stdout",
     "output_type": "stream",
     "text": [
      "0\n",
      "2\n",
      "mid 1\n",
      "mid 2\n",
      "m\n"
     ]
    }
   ],
   "source": [
    "# Given a characters array letters that is sorted in non-decreasing order and \n",
    "# a character target, return the smallest character in the array that is larger than target.\n",
    "# Note that the letters wrap around.\n",
    "\n",
    "# For example, if target == 'z' and letters == ['a', 'b'], the answer is 'a'.\n",
    "\n",
    "def nextGreatestLetter(letters, target: str) -> str:\n",
    "    start, end = 0, len(letters)-1\n",
    "\n",
    "    print(start)\n",
    "    print(end)\n",
    "\n",
    "    res =''\n",
    "    while start<=end:\n",
    "        mid = (start+end)//2\n",
    "        print(\"mid\", mid)\n",
    "\n",
    "        if letters[mid] > target:\n",
    "            res = letters[mid]\n",
    "            end = mid-1\n",
    "        else:\n",
    "            start = mid+1\n",
    "    if res:\n",
    "        return res\n",
    "    return letters[0]\n",
    "\n",
    "\n",
    "\n",
    "letters = [\"a\",\"d\", \"m\"]\n",
    "target = \"g\"\n",
    "\n",
    "print(nextGreatestLetter(letters, target))"
   ]
  },
  {
   "cell_type": "code",
   "execution_count": 30,
   "metadata": {},
   "outputs": [
    {
     "name": "stdout",
     "output_type": "stream",
     "text": [
      "[1, 0]\n"
     ]
    }
   ],
   "source": [
    "def twoSum(nums, target: int):\n",
    "    hashed = {}\n",
    "    for key, value in enumerate(nums):\n",
    "        remain_value = target-value\n",
    "        if remain_value in hashed:\n",
    "            return [key, hashed[remain_value]]\n",
    "        hashed[value] = key\n",
    "\n",
    "\n",
    "aa = [2,7,11,15]\n",
    "k = 9\n",
    "print(twoSum(aa, k))"
   ]
  },
  {
   "cell_type": "code",
   "execution_count": 29,
   "metadata": {},
   "outputs": [
    {
     "name": "stdout",
     "output_type": "stream",
     "text": [
      "[4, 5]\n"
     ]
    }
   ],
   "source": [
    "def twoSum(numbers, target: int):\n",
    "    for i, v in enumerate(numbers):\n",
    "        remaining = target-v\n",
    "        result, point = binarySearch(numbers, remaining)\n",
    "        if result:\n",
    "            if i == point:\n",
    "                return [i+1, point+2]\n",
    "            return[i+1, point+1]\n",
    "\n",
    "# Binary Serach\n",
    "def binarySearch(arr, target):\n",
    "    start, end = 0, len(arr)-1\n",
    "    while start <= end:\n",
    "        mid = start + (end-start)//2\n",
    "        if arr[mid] == target:\n",
    "            return True, mid\n",
    "        if arr[mid] > target:\n",
    "            end = mid-1\n",
    "        else:\n",
    "            start = mid+1\n",
    "    return False, start\n",
    "            \n",
    "\n",
    "res = [1,2,3,4,4,9,56,90]\n",
    "k = 8\n",
    "print(twoSum(res, k))"
   ]
  }
 ],
 "metadata": {
  "interpreter": {
   "hash": "a0a5145e6c304e2a9afaf5b930a2955b950bd4b81fe94f7c42930f43f42762eb"
  },
  "kernelspec": {
   "display_name": "Python 3.10.1 64-bit",
   "language": "python",
   "name": "python3"
  },
  "language_info": {
   "codemirror_mode": {
    "name": "ipython",
    "version": 3
   },
   "file_extension": ".py",
   "mimetype": "text/x-python",
   "name": "python",
   "nbconvert_exporter": "python",
   "pygments_lexer": "ipython3",
   "version": "3.10.1"
  },
  "orig_nbformat": 4
 },
 "nbformat": 4,
 "nbformat_minor": 2
}
