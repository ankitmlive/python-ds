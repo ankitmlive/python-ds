{
 "cells": [
  {
   "cell_type": "markdown",
   "metadata": {},
   "source": [
    "### 852. Peak Index in a Mountain Array\n",
    "##### https://leetcode.com/problems/peak-index-in-a-mountain-array/"
   ]
  },
  {
   "cell_type": "code",
   "execution_count": 7,
   "metadata": {},
   "outputs": [
    {
     "name": "stdout",
     "output_type": "stream",
     "text": [
      "1\n",
      "4\n",
      "2\n"
     ]
    }
   ],
   "source": [
    "arr1 = [0,2,1,0]\n",
    "arr2 = [2, 4, 7, 8, 10, 9, 6, 5, 3, 1]\n",
    "arr3 = [3,4,5,1]\n",
    "\n",
    "def get_peek(arr):\n",
    "    left = 0\n",
    "    right = len(arr)-1\n",
    "    while left < right:\n",
    "        mid = (left+right)//2\n",
    "        if arr[mid] < arr[mid+1]:\n",
    "            left = mid +1\n",
    "        else:\n",
    "            right = mid\n",
    "    return left\n",
    "\n",
    "print(get_peek(arr1))\n",
    "print(get_peek(arr2))\n",
    "print(get_peek(arr3))"
   ]
  }
 ],
 "metadata": {
  "kernelspec": {
   "display_name": "Python 3",
   "language": "python",
   "name": "python3"
  },
  "language_info": {
   "codemirror_mode": {
    "name": "ipython",
    "version": 3
   },
   "file_extension": ".py",
   "mimetype": "text/x-python",
   "name": "python",
   "nbconvert_exporter": "python",
   "pygments_lexer": "ipython3",
   "version": "3.11.5"
  }
 },
 "nbformat": 4,
 "nbformat_minor": 2
}
