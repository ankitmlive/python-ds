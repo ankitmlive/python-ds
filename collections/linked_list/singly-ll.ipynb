{
 "cells": [
  {
   "cell_type": "code",
   "execution_count": 1,
   "metadata": {},
   "outputs": [
    {
     "name": "stdout",
     "output_type": "stream",
     "text": [
      "11,12,13,18, \n",
      "18,13,12,11, \n",
      "Position of 18 is: 0\n",
      "Position of 19 is: Not Found in linked list\n"
     ]
    }
   ],
   "source": [
    "# Linked List (Singly) in Python\n",
    "\n",
    "# Element\n",
    "class Element:\n",
    "    def __init__(self, data):\n",
    "        self.data = data\n",
    "        self.next = None\n",
    "\n",
    "# Singly Linked List Implementation\n",
    "class SinglyLinkedList:\n",
    "    # init the class\n",
    "    def __init__(self):\n",
    "        self.head = None\n",
    "    \n",
    "    # function to add some new element\n",
    "    def add(self, data):\n",
    "        new_element = Element(data)\n",
    "        current = self.head\n",
    "        if self.head:\n",
    "            while current.next:\n",
    "                current = current.next\n",
    "            current.next = new_element\n",
    "        else:\n",
    "            self.head = new_element\n",
    "    \n",
    "    # fucntion to get postion of a element\n",
    "    def get_position(self, element):\n",
    "        position = 0\n",
    "        current = self.head\n",
    "        while current:\n",
    "            if current.data == element:\n",
    "                return position\n",
    "            current = current.next\n",
    "            position += 1\n",
    "        else:\n",
    "            return \"Not Found in linked list\"\n",
    "    \n",
    "    def insert(self, position, element):\n",
    "        pass\n",
    "\n",
    "    def delete(self, element):\n",
    "        pass\n",
    "\n",
    "    def reverse(self):\n",
    "        prev = None\n",
    "        current = self.head\n",
    "        while(current is not None):\n",
    "            # get the next element\n",
    "            next = current.next\n",
    "            # set first element to last\n",
    "            current.next = prev\n",
    "            prev = current\n",
    "            current = next\n",
    "        self.head = prev\n",
    "\n",
    "    # Fuction to show list elements\n",
    "    def show(self):\n",
    "        temp = self.head\n",
    "        while(temp):\n",
    "            print(temp.data, end=\",\")\n",
    "            temp = temp.next\n",
    "\n",
    "\n",
    "# Test the Singly Linked List\n",
    "sll = SinglyLinkedList()\n",
    "sll.add(11)\n",
    "sll.add(12)\n",
    "sll.add(13)\n",
    "sll.add(18)\n",
    "sll.show()\n",
    "print(\" \")\n",
    "sll.reverse()\n",
    "sll.show()\n",
    "print(\" \")\n",
    "print(\"Position of 18 is:\", sll.get_position(18))\n",
    "print(\"Position of 19 is:\", sll.get_position(19))"
   ]
  }
 ],
 "metadata": {
  "interpreter": {
   "hash": "a0a5145e6c304e2a9afaf5b930a2955b950bd4b81fe94f7c42930f43f42762eb"
  },
  "kernelspec": {
   "display_name": "Python 3.10.1 64-bit",
   "language": "python",
   "name": "python3"
  },
  "language_info": {
   "codemirror_mode": {
    "name": "ipython",
    "version": 3
   },
   "file_extension": ".py",
   "mimetype": "text/x-python",
   "name": "python",
   "nbconvert_exporter": "python",
   "pygments_lexer": "ipython3",
   "version": "3.10.1"
  },
  "orig_nbformat": 4
 },
 "nbformat": 4,
 "nbformat_minor": 2
}
