{
 "cells": [
  {
   "cell_type": "markdown",
   "metadata": {},
   "source": [
    "*args and **kwargs are the great fetures in Pyhton to achive parameters bundling.\n",
    "lets start with an example:"
   ]
  },
  {
   "cell_type": "code",
   "execution_count": 1,
   "metadata": {},
   "outputs": [
    {
     "name": "stdout",
     "output_type": "stream",
     "text": [
      "('ankit', 26, 9956979701)\n"
     ]
    }
   ],
   "source": [
    "def demo_args(*args):\n",
    "    print(args)\n",
    "\n",
    "demo_args(\"ankit\", 26, 9956979701)"
   ]
  }
 ],
 "metadata": {
  "kernelspec": {
   "display_name": "Python 3",
   "language": "python",
   "name": "python3"
  },
  "language_info": {
   "codemirror_mode": {
    "name": "ipython",
    "version": 3
   },
   "file_extension": ".py",
   "mimetype": "text/x-python",
   "name": "python",
   "nbconvert_exporter": "python",
   "pygments_lexer": "ipython3",
   "version": "3.11.5"
  }
 },
 "nbformat": 4,
 "nbformat_minor": 2
}
