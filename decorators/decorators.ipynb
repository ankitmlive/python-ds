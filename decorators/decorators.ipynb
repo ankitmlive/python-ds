{
 "cells": [
  {
   "cell_type": "markdown",
   "metadata": {},
   "source": [
    "# Some Code\n",
    "\n",
    "@some_decorator\n",
    "def some_function(aa, bb):\n",
    "    c = aa+bb\n",
    "    return c\n",
    "\n",
    "# Python will translate the above into this when called\n",
    "some_function = some_decorator(some_function)\n",
    "\n",
    "# Creation of decorator's have 3 stages:\n",
    "1 - definition of decorator\n",
    "2 - definition of method or function\n",
    "3 - calling of method or function"
   ]
  },
  {
   "cell_type": "code",
   "execution_count": 2,
   "metadata": {},
   "outputs": [
    {
     "name": "stdout",
     "output_type": "stream",
     "text": [
      "Calling Decorator for some_func\n",
      "Called Function\n",
      "21\n"
     ]
    }
   ],
   "source": [
    "# A Basic Decorator\n",
    "\n",
    "# decorator definition\n",
    "def some_dec(func):\n",
    "    def inner(*args, **kwargs):\n",
    "        print(\"Calling Decorator for\", func.__name__)\n",
    "        return func(*args, **kwargs)\n",
    "    return inner\n",
    "\n",
    "# function definition\n",
    "@some_dec\n",
    "def some_func(aa, bb):\n",
    "    print(\"Called some_func\")\n",
    "    c = aa + bb\n",
    "    return c\n",
    "\n",
    "# funtion call\n",
    "print(some_func(10, 11))"
   ]
  },
  {
   "cell_type": "code",
   "execution_count": 10,
   "metadata": {},
   "outputs": [
    {
     "name": "stdout",
     "output_type": "stream",
     "text": [
      "Total amount to be paid:  $110.0\n"
     ]
    }
   ],
   "source": [
    "# A Real-World Example\n",
    "# We have an function, which is calculating the total amount from tax+amount and returning total amount\n",
    "# We want to decorate the function using a decorator, which will add currency to total amount\n",
    "\n",
    "# decorator\n",
    "def add_currency(func):\n",
    "    def wrapper(*args, **kwargs):\n",
    "        total = func(*args, **kwargs)\n",
    "        return f\"${total}\"\n",
    "    return wrapper\n",
    "\n",
    "# main function\n",
    "@add_currency\n",
    "def total_price(amount: int, tax_percent: int):\n",
    "    total = amount + amount*tax_percent/100\n",
    "    return total\n",
    "\n",
    "# Execute the original function\n",
    "amount = 100\n",
    "tax_percent = 10\n",
    "print(\"Total amount to be paid: \", total_price(amount, tax_percent))\n",
    "    "
   ]
  }
 ],
 "metadata": {
  "interpreter": {
   "hash": "a0a5145e6c304e2a9afaf5b930a2955b950bd4b81fe94f7c42930f43f42762eb"
  },
  "kernelspec": {
   "display_name": "Python 3.10.1 64-bit",
   "language": "python",
   "name": "python3"
  },
  "language_info": {
   "codemirror_mode": {
    "name": "ipython",
    "version": 3
   },
   "file_extension": ".py",
   "mimetype": "text/x-python",
   "name": "python",
   "nbconvert_exporter": "python",
   "pygments_lexer": "ipython3",
   "version": "3.10.1"
  },
  "orig_nbformat": 4
 },
 "nbformat": 4,
 "nbformat_minor": 2
}
