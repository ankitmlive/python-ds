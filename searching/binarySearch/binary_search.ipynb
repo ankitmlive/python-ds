{
 "cells": [
  {
   "cell_type": "markdown",
   "metadata": {},
   "source": [
    "## Python programme for binary search\n",
    "#### Time complexity: Best: O(1), Average: O(log n), Worst: O(log n)\n",
    "#### Space complexity: O(1)\n",
    "##### LINK: https://leetcode.com/problems/binary-search/ (Binary Search)\n",
    "###### Algorithm: It uses the divide and conquer approch,\n",
    "######    1: get first, last and mid of the array\n",
    "######    2: if mid==value, return the value otherwise compare the value it is either left side or right side\n",
    "######    3: This implementation is created using iterative approach because recursion perfomrs very poor in Python"
   ]
  },
  {
   "cell_type": "code",
   "execution_count": 1,
   "metadata": {},
   "outputs": [
    {
     "name": "stdout",
     "output_type": "stream",
     "text": [
      "Position of 77 in given array is 5\n"
     ]
    }
   ],
   "source": [
    "# Iterative Approach\n",
    "def binary_search_iterative(arr, num):\n",
    "    \"\"\" Binary Search using Iterative approach \"\"\"\n",
    "    first, last = 0, len(arr)-1\n",
    "    while first <= last:\n",
    "        mid=(first+last)//2\n",
    "        if num==arr[mid]:\n",
    "            return mid\n",
    "        if num < arr[mid]:\n",
    "            last = mid - 1\n",
    "        else:\n",
    "            first = mid + 1\n",
    "    return -1\n",
    "\n",
    "# Execution\n",
    "arr=[23, 36, 48, 54, 63, 77, 89, 90]\n",
    "number_to_be_searched = 77\n",
    "position=binary_search_iterative(arr, number_to_be_searched)\n",
    "print(f\"Position of {number_to_be_searched} in given array is {position}\")"
   ]
  },
  {
   "cell_type": "code",
   "execution_count": 1,
   "metadata": {},
   "outputs": [
    {
     "name": "stdout",
     "output_type": "stream",
     "text": [
      "Position of 89 in given array is 6\n"
     ]
    }
   ],
   "source": [
    "# Recursive Approach\n",
    "def binary_search_recursive(arr, first, last, num):\n",
    "    \"\"\" Binary Search using Recursive approach \"\"\"\n",
    "    if first < last:\n",
    "\n",
    "        # get the mid of the array\n",
    "        mid = (first+last)//2\n",
    "\n",
    "        # return the number if mid == num\n",
    "        if num == arr[mid]:\n",
    "            return mid\n",
    "        \n",
    "        if num < arr[mid]:\n",
    "            return binary_search_recursive(arr, 0, mid-1, num)\n",
    "        else:\n",
    "            return binary_search_recursive(arr, mid+1, last, num)\n",
    "    else:\n",
    "        return None\n",
    "\n",
    "# Execution\n",
    "arr=[23, 36, 48, 54, 63, 77, 89, 90]\n",
    "input_num = 89\n",
    "position=binary_search_recursive(arr, 0, len(arr)-1, input_num)\n",
    "print(f\"Position of {input_num} in given array is {position}\")"
   ]
  }
 ],
 "metadata": {
  "interpreter": {
   "hash": "a0a5145e6c304e2a9afaf5b930a2955b950bd4b81fe94f7c42930f43f42762eb"
  },
  "kernelspec": {
   "display_name": "Python 3.10.1 64-bit",
   "language": "python",
   "name": "python3"
  },
  "language_info": {
   "codemirror_mode": {
    "name": "ipython",
    "version": 3
   },
   "file_extension": ".py",
   "mimetype": "text/x-python",
   "name": "python",
   "nbconvert_exporter": "python",
   "pygments_lexer": "ipython3",
   "version": "3.10.1"
  },
  "orig_nbformat": 4
 },
 "nbformat": 4,
 "nbformat_minor": 2
}
