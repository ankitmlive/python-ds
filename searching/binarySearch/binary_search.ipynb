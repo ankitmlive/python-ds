{
 "cells": [
  {
   "cell_type": "markdown",
   "metadata": {},
   "source": [
    "Python programme for binary search\n",
    "LINK: https://leetcode.com/problems/binary-search/ (Binary Search)\n",
    "Time complexity: Best: O(1), Average: O(log n), Worst: O(log n)\n",
    "Space complexity: O(1)\n",
    "Algorithm: It uses the divide and conquer approch,\n",
    "    1: get first, last and mid of the array\n",
    "    2: if mid==value, return the value otherwise compare the value it is either left side or right side\n",
    "    3: This implementation is created using iterative approach because recursion perfomrs very poor in Python"
   ]
  },
  {
   "cell_type": "code",
   "execution_count": 2,
   "metadata": {},
   "outputs": [
    {
     "name": "stdout",
     "output_type": "stream",
     "text": [
      "Position of 77 in given array is 5\n"
     ]
    }
   ],
   "source": [
    "def binary_search_iterative(arr, num):\n",
    "    \"\"\" Binary Search using Iterative approach \"\"\"\n",
    "    n=len(arr)\n",
    "    first=0\n",
    "    last=n-1\n",
    "    while first <= last:\n",
    "        mid=(first+last)//2\n",
    "        if num==arr[mid]:\n",
    "            return mid\n",
    "        if num < arr[mid]:\n",
    "            last = mid - 1\n",
    "        else:\n",
    "            first = mid + 1\n",
    "    return -1\n",
    "\n",
    "# Execution\n",
    "arr=[23, 36, 48, 54, 63, 77, 89, 90]\n",
    "number_to_be_searched = 77\n",
    "position=binary_search_iterative(arr, number_to_be_searched)\n",
    "print(f\"Position of {number_to_be_searched} in given array is {position}\")"
   ]
  }
 ],
 "metadata": {
  "interpreter": {
   "hash": "a0a5145e6c304e2a9afaf5b930a2955b950bd4b81fe94f7c42930f43f42762eb"
  },
  "kernelspec": {
   "display_name": "Python 3.10.1 64-bit",
   "language": "python",
   "name": "python3"
  },
  "language_info": {
   "codemirror_mode": {
    "name": "ipython",
    "version": 3
   },
   "file_extension": ".py",
   "mimetype": "text/x-python",
   "name": "python",
   "nbconvert_exporter": "python",
   "pygments_lexer": "ipython3",
   "version": "3.10.1"
  },
  "orig_nbformat": 4
 },
 "nbformat": 4,
 "nbformat_minor": 2
}
