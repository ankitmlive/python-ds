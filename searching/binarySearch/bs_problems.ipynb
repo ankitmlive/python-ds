{
 "cells": [
  {
   "cell_type": "markdown",
   "metadata": {},
   "source": [
    "## Binary Search Problem's in Python\n",
    "\n",
    "### Problem - 1 \n",
    "##### Given a sorted array of distinct integers and a target value, return the index if the target is found. If not, return the index where it would be if it were inserted in order.\n",
    "##### Expected Time Complexictiyt: O(log n)\n",
    "###### Link: https://leetcode.com/problems/search-insert-position/"
   ]
  },
  {
   "cell_type": "code",
   "execution_count": 5,
   "metadata": {},
   "outputs": [
    {
     "name": "stdout",
     "output_type": "stream",
     "text": [
      "Output for available value: 3\n",
      "Output for missing value: 2\n"
     ]
    }
   ],
   "source": [
    "def searchInsert(nums, target: int) -> int:\n",
    "    first, last = 0, len(nums)-1\n",
    "    while first <= last:\n",
    "        mid = (first + (last-first)//2)\n",
    "        if target == nums[mid]:\n",
    "            return mid\n",
    "        if target > nums[mid]:\n",
    "            first = mid + 1\n",
    "        else:\n",
    "            last = mid - 1\n",
    "    return first\n",
    "\n",
    "print(\"Output for available value:\", searchInsert([1,3,14,26,38,64], 26))\n",
    "print(\"Output for missing value:\", searchInsert([1,3,14,26,38,64], 5))"
   ]
  },
  {
   "cell_type": "markdown",
   "metadata": {},
   "source": [
    "### Problem - 2\n",
    "##### Let's call an array arr a mountain if the following properties hold: arr.length >= 3\n",
    "##### There exists some i with 0 < i < arr.length - 1 such that\n",
    "    ```\n",
    "        arr[0] < arr[1] < ... arr[i-1] < arr[i]\n",
    "        arr[i] > arr[i+1] > ... > arr[arr.length - 1]\n",
    "    ```\n",
    "##### Given an integer array arr that is guaranteed to be a mountain, return any i such that arr[0] < arr[1] < ... arr[i - 1] < arr[i] > arr[i + 1] > ... > arr[arr.length - 1]."
   ]
  },
  {
   "cell_type": "code",
   "execution_count": 7,
   "metadata": {},
   "outputs": [
    {
     "name": "stdout",
     "output_type": "stream",
     "text": [
      "5\n"
     ]
    }
   ],
   "source": [
    "def peakIndexInMountainArray(arr) -> int:\n",
    "    first, last = 0, len(arr)-1\n",
    "    while first <= last:\n",
    "        mid = first + (last-first)//2\n",
    "        left = mid-1\n",
    "        right = mid +1\n",
    "        if arr[left] < arr[mid] > arr[right]:\n",
    "            return mid\n",
    "        if arr[mid] < arr[right]:\n",
    "            first = right\n",
    "        else:\n",
    "            last = left\n",
    "\n",
    "print(peakIndexInMountainArray([18,29,38,59,98,100,99,98,90]))"
   ]
  },
  {
   "cell_type": "markdown",
   "metadata": {},
   "source": [
    "### Problem - 3\n",
    "##### Given a positive integer num, write a function which returns True if num is a perfect square else False.\n",
    "###### Follow up: Do not use any built-in library function such as sqrt.\n",
    "###### Link: https://leetcode.com/problems/valid-perfect-square/ (367. Valid Perfect Square)"
   ]
  },
  {
   "cell_type": "code",
   "execution_count": 10,
   "metadata": {},
   "outputs": [
    {
     "name": "stdout",
     "output_type": "stream",
     "text": [
      "True\n",
      "False\n"
     ]
    }
   ],
   "source": [
    "def isPerfectSquare(num: int) -> bool:\n",
    "    first, last = 1, num\n",
    "    while first <= last:\n",
    "        mid = first+(last-first)//2\n",
    "        if mid**2 == num:\n",
    "            return True\n",
    "        if mid**2 > num:\n",
    "            last = mid - 1\n",
    "        else:\n",
    "            first = mid + 1\n",
    "    return False\n",
    "\n",
    "print(isPerfectSquare(400))\n",
    "print(isPerfectSquare(24))"
   ]
  },
  {
   "cell_type": "markdown",
   "metadata": {},
   "source": [
    "#### Problem - 4\n",
    "##### Given two integer arrays arr1 and arr2, and the integer d, return the distance value between the two arrays.The distance value is defined as the number of elements arr1[i] such that there is not any element arr2[j] where |arr1[i]-arr2[j]| <= d."
   ]
  },
  {
   "cell_type": "code",
   "execution_count": 3,
   "metadata": {},
   "outputs": [
    {
     "name": "stdout",
     "output_type": "stream",
     "text": [
      "2\n"
     ]
    }
   ],
   "source": [
    "# Time Complexcity: O(n)\n",
    "def findTheDistanceValue(arr1, arr2, d: int) -> int:\n",
    "    count = 0\n",
    "    for dig1 in arr1:\n",
    "        for dig2 in arr2:\n",
    "            if abs(dig1-dig2) <= d:\n",
    "                count += 1\n",
    "                break;\n",
    "        \n",
    "    return len(arr1)-count\n",
    "\n",
    "print(findTheDistanceValue([4,5,8], [10,9,1,8], 2))"
   ]
  },
  {
   "cell_type": "markdown",
   "metadata": {},
   "source": [
    "#### Problem - 5\n",
    "##### Given a non-negative integer x, compute and return the square root of x. Since the return type is an integer, the decimal digits are truncated, and only the integer part of the result is returned.\n",
    "###### Note: You are not allowed to use any built-in exponent function or operator, such as pow(x, 0.5) or x ** 0.5.\n",
    "###### Link: https://leetcode.com/problems/sqrtx/ (Sqrt(x))\n",
    "###### Input: x = 8\n",
    "###### Output: 2\n",
    "###### Explanation: The square root of 8 is 2.82842..., and since the decimal part is truncated, 2 is returned."
   ]
  },
  {
   "cell_type": "code",
   "execution_count": 1,
   "metadata": {},
   "outputs": [
    {
     "name": "stdout",
     "output_type": "stream",
     "text": [
      "2\n"
     ]
    }
   ],
   "source": [
    "def mySqrt(x: int) -> int:\n",
    "    first, last = 0, x\n",
    "    while first <= last:\n",
    "        mid = first + (last-first)//2\n",
    "        # if perfect square return\n",
    "        if mid*mid == x:\n",
    "            return mid\n",
    "        if mid*mid > x:\n",
    "            last = mid-1\n",
    "        else:\n",
    "            first = mid+1\n",
    "    # if not then then the square root will be in the middle of first - 1\n",
    "    if first*first > x:\n",
    "        return first - 1\n",
    "    return first\n",
    "\n",
    "print(mySqrt(8))"
   ]
  },
  {
   "cell_type": "markdown",
   "metadata": {},
   "source": [
    "#### Problem - 6\n",
    "##### You are a product manager and currently leading a team to develop a new product. Unfortunately, the latest version of your product fails the quality check. Since each version is developed based on the previous version, all the versions after a bad version are also bad.\n",
    "##### Suppose you have n versions [1, 2, ..., n] and you want to find out the first bad one, which causes all the following ones to be bad.\n",
    "##### You are given an API bool isBadVersion(version) which returns whether version is bad. Implement a function to find the first bad version. You should minimize the number of calls to the API.\n",
    "###### Link: https://leetcode.com/problems/first-bad-version/ (278. First Bad Version)"
   ]
  },
  {
   "cell_type": "code",
   "execution_count": 1,
   "metadata": {},
   "outputs": [],
   "source": [
    "# The isBadVersion API is already defined for you.\n",
    "# def isBadVersion(version: int) -> bool:\n",
    "\n",
    "def isBadVersion(n:int):\n",
    "    pass\n",
    "\n",
    "class Solution:\n",
    "    def firstBadVersion(self, n: int) -> int:\n",
    "        first, last = 1 , n\n",
    "        first_bad = -1\n",
    "        while first <= last:\n",
    "            mid = first + (last-first)//2\n",
    "            if isBadVersion(mid):\n",
    "                first_bad = mid\n",
    "                last = mid -1\n",
    "            else:\n",
    "                first = mid +1\n",
    "        return first_bad"
   ]
  },
  {
   "cell_type": "markdown",
   "metadata": {},
   "source": []
  }
 ],
 "metadata": {
  "interpreter": {
   "hash": "a0a5145e6c304e2a9afaf5b930a2955b950bd4b81fe94f7c42930f43f42762eb"
  },
  "kernelspec": {
   "display_name": "Python 3.10.1 64-bit",
   "language": "python",
   "name": "python3"
  },
  "language_info": {
   "codemirror_mode": {
    "name": "ipython",
    "version": 3
   },
   "file_extension": ".py",
   "mimetype": "text/x-python",
   "name": "python",
   "nbconvert_exporter": "python",
   "pygments_lexer": "ipython3",
   "version": "3.10.1"
  },
  "orig_nbformat": 4
 },
 "nbformat": 4,
 "nbformat_minor": 2
}
