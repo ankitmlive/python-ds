{
 "cells": [
  {
   "cell_type": "markdown",
   "metadata": {},
   "source": [
    "## Binary Search Problem's in Python\n",
    "\n",
    "### Problem - 1 \n",
    "##### Given a sorted array of distinct integers and a target value, return the index if the target is found. If not, return the index where it would be if it were inserted in order.\n",
    "##### Expected Time Complexictiyt: O(log n)\n",
    "###### Link: https://leetcode.com/problems/search-insert-position/"
   ]
  },
  {
   "cell_type": "code",
   "execution_count": 5,
   "metadata": {},
   "outputs": [
    {
     "name": "stdout",
     "output_type": "stream",
     "text": [
      "Output for available value: 3\n",
      "Output for missing value: 2\n"
     ]
    }
   ],
   "source": [
    "def searchInsert(nums, target: int) -> int:\n",
    "    first, last = 0, len(nums)-1\n",
    "    while first <= last:\n",
    "        mid = (first + (last-first)//2)\n",
    "        if target == nums[mid]:\n",
    "            return mid\n",
    "        if target > nums[mid]:\n",
    "            first = mid + 1\n",
    "        else:\n",
    "            last = mid - 1\n",
    "    return first\n",
    "\n",
    "print(\"Output for available value:\", searchInsert([1,3,14,26,38,64], 26))\n",
    "print(\"Output for missing value:\", searchInsert([1,3,14,26,38,64], 5))"
   ]
  },
  {
   "cell_type": "markdown",
   "metadata": {},
   "source": [
    "#### Let's call an array arr a mountain if the following properties hold:\n",
    "\n",
    "#### arr.length >= 3\n",
    "#### There exists some i with 0 < i < arr.length - 1 such that\n",
    "    '''\n",
    "        arr[0] < arr[1] < ... arr[i-1] < arr[i]\n",
    "        arr[i] > arr[i+1] > ... > arr[arr.length - 1]\n",
    "    '''\n",
    "##### Given an integer array arr that is guaranteed to be a mountain, return any i such that arr[0] < arr[1] < ... arr[i - 1] < arr[i] > arr[i + 1] > ... > arr[arr.length - 1]."
   ]
  },
  {
   "cell_type": "code",
   "execution_count": 7,
   "metadata": {},
   "outputs": [
    {
     "name": "stdout",
     "output_type": "stream",
     "text": [
      "5\n"
     ]
    }
   ],
   "source": [
    "def peakIndexInMountainArray(arr) -> int:\n",
    "    first, last = 0, len(arr)-1\n",
    "    while first <= last:\n",
    "        mid = first + (last-first)//2\n",
    "        left = mid-1\n",
    "        right = mid +1\n",
    "        if arr[left] < arr[mid] > arr[right]:\n",
    "            return mid\n",
    "        if arr[mid] < arr[right]:\n",
    "            first = right\n",
    "        else:\n",
    "            last = left\n",
    "\n",
    "print(peakIndexInMountainArray([18,29,38,59,98,100,99,98,90]))"
   ]
  },
  {
   "cell_type": "markdown",
   "metadata": {},
   "source": [
    "#### Given a positive integer num, write a function which returns True if num is a perfect square else False.\n",
    "##### Follow up: Do not use any built-in library function such as sqrt.\n",
    "###### Link: https://leetcode.com/problems/valid-perfect-square/ (367. Valid Perfect Square)"
   ]
  },
  {
   "cell_type": "code",
   "execution_count": 10,
   "metadata": {},
   "outputs": [
    {
     "name": "stdout",
     "output_type": "stream",
     "text": [
      "True\n",
      "False\n"
     ]
    }
   ],
   "source": [
    "def isPerfectSquare(num: int) -> bool:\n",
    "    first, last = 1, num\n",
    "    while first <= last:\n",
    "        mid = first+(last-first)//2\n",
    "        if mid**2 == num:\n",
    "            return True\n",
    "        if mid**2 > num:\n",
    "            last = mid - 1\n",
    "        else:\n",
    "            first = mid + 1\n",
    "    return False\n",
    "\n",
    "print(isPerfectSquare(400))\n",
    "print(isPerfectSquare(24))"
   ]
  },
  {
   "cell_type": "code",
   "execution_count": 14,
   "metadata": {},
   "outputs": [
    {
     "name": "stdout",
     "output_type": "stream",
     "text": [
      "8 10\n",
      "2\n"
     ]
    }
   ],
   "source": [
    "# Given two integer arrays arr1 and arr2, and the integer d, return the distance value between the two arrays.\n",
    "# The distance value is defined as the number of elements arr1[i] such that there is not any element arr2[j] where |arr1[i]-arr2[j]| <= d.\n",
    "\n",
    "def findTheDistanceValue(arr1, arr2, d: int) -> int:\n",
    "    count = 0\n",
    "    for dig1 in arr1:\n",
    "        for dig2 in arr2:\n",
    "            if abs(dig1-dig2) <= d:\n",
    "                print(dig1,dig2)\n",
    "                count += 1\n",
    "                break;\n",
    "        \n",
    "    return len(arr1)-count\n",
    "\n",
    "print(findTheDistanceValue([4,5,8], [10,9,1,8], 2))"
   ]
  }
 ],
 "metadata": {
  "interpreter": {
   "hash": "a0a5145e6c304e2a9afaf5b930a2955b950bd4b81fe94f7c42930f43f42762eb"
  },
  "kernelspec": {
   "display_name": "Python 3.10.1 64-bit",
   "language": "python",
   "name": "python3"
  },
  "language_info": {
   "codemirror_mode": {
    "name": "ipython",
    "version": 3
   },
   "file_extension": ".py",
   "mimetype": "text/x-python",
   "name": "python",
   "nbconvert_exporter": "python",
   "pygments_lexer": "ipython3",
   "version": "3.10.1"
  },
  "orig_nbformat": 4
 },
 "nbformat": 4,
 "nbformat_minor": 2
}
