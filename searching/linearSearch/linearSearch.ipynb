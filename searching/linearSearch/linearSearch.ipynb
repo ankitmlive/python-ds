{
 "cells": [
  {
   "cell_type": "markdown",
   "metadata": {},
   "source": [
    "#### Linear Search\n",
    "##### The time complexity of the above algorithm is O(n), because it checks each element in list"
   ]
  },
  {
   "cell_type": "code",
   "execution_count": 1,
   "metadata": {},
   "outputs": [
    {
     "name": "stdout",
     "output_type": "stream",
     "text": [
      "Position of 23 in given array is 4\n"
     ]
    }
   ],
   "source": [
    "def linear_search(arr, num):\n",
    "    n=len(arr)\n",
    "    for i in range(n):\n",
    "        if arr[i]==num:\n",
    "            return i\n",
    "    return -1\n",
    "\n",
    "if __name__==\"__main__\":\n",
    "    arr=[29, 56, 78, 64, 23, 87, 69, 40]\n",
    "    num=23\n",
    "    position=linear_search(arr, num)\n",
    "    print(f\"Position of {num} in given array is {position}\")"
   ]
  }
 ],
 "metadata": {
  "kernelspec": {
   "display_name": "Python 3",
   "language": "python",
   "name": "python3"
  },
  "language_info": {
   "codemirror_mode": {
    "name": "ipython",
    "version": 3
   },
   "file_extension": ".py",
   "mimetype": "text/x-python",
   "name": "python",
   "nbconvert_exporter": "python",
   "pygments_lexer": "ipython3",
   "version": "3.11.5"
  }
 },
 "nbformat": 4,
 "nbformat_minor": 2
}
