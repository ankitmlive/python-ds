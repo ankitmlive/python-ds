{
 "cells": [
  {
   "cell_type": "markdown",
   "metadata": {},
   "source": [
    "### Bubble Sort\n",
    "#### Algorithm\n",
    "##### bubble sort is a basic and inefficient algorithm to sort an array, In this technique we iterate through full array n times in outer loop and in inner loop we check the first and second item, the last item is not checked that's why (n-i-1) is used."
   ]
  },
  {
   "cell_type": "code",
   "execution_count": 4,
   "metadata": {},
   "outputs": [
    {
     "name": "stdout",
     "output_type": "stream",
     "text": [
      "Input Elements: [12, 23, 34, 45, 56, 67, 78, 89, 3, 8, 11, 32, 28]\n",
      "Sorted Elements: [3, 8, 11, 12, 23, 28, 32, 34, 45, 56, 67, 78, 89]\n"
     ]
    }
   ],
   "source": [
    "\"\"\"\n",
    "Bubble Sort in Python\n",
    "Used to sort an array, It itearte every element for input number\n",
    "Time complexicity: O(n), O(n^2), O(n^2), Space Complexicity: O(1) \n",
    "\"\"\"\n",
    "def BubbleSort(arr):\n",
    "    n = len(arr)\n",
    "    already_swapped = True\n",
    "    for i in range(n):\n",
    "        for j in range(n-i-1):\n",
    "            if arr[j] > arr[j+1]:\n",
    "                arr[j], arr[j+1] = arr[j+1], arr[j]\n",
    "                already_swapped = False\n",
    "        if already_swapped:\n",
    "            break\n",
    "    return arr\n",
    "\n",
    "if __name__ == \"__main__\":\n",
    "    input_arr = [12,23,34,45,56,67,78,89,3,8,11,32,28]\n",
    "    print(\"Input Elements:\", input_arr)\n",
    "    BubbleSort(input_arr)\n",
    "    print(\"Sorted Elements:\", input_arr)"
   ]
  }
 ],
 "metadata": {
  "kernelspec": {
   "display_name": "Python 3",
   "language": "python",
   "name": "python3"
  },
  "language_info": {
   "codemirror_mode": {
    "name": "ipython",
    "version": 3
   },
   "file_extension": ".py",
   "mimetype": "text/x-python",
   "name": "python",
   "nbconvert_exporter": "python",
   "pygments_lexer": "ipython3",
   "version": "3.11.5"
  }
 },
 "nbformat": 4,
 "nbformat_minor": 2
}
