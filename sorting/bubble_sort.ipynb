{
 "cells": [
  {
   "cell_type": "code",
   "execution_count": 4,
   "metadata": {},
   "outputs": [
    {
     "name": "stdout",
     "output_type": "stream",
     "text": [
      "Input Elements: [12, 23, 34, 45, 56, 67, 78, 89, 3, 8, 11, 32, 28]\n",
      "Sorted Elements: [3, 8, 11, 12, 23, 28, 32, 34, 45, 56, 67, 78, 89]\n"
     ]
    }
   ],
   "source": [
    "\"\"\"\n",
    "Bubble Sort in Python\n",
    "Used to sort an array, It itearte every element for input number\n",
    "Time complexicity: O(n), O(n^2), O(n^2), Space Complexicity: O(1) \n",
    "\"\"\"\n",
    "\n",
    "def BubbleSort(arr):\n",
    "    swapped = False\n",
    "    n=len(arr)\n",
    "    for i in range(n):\n",
    "        # compare 1st and 2nd then all consecutive elements\n",
    "        for j in range(n-i-1):\n",
    "            if arr[j] > arr[j+1]:\n",
    "                arr[j], arr[j+1] = arr[j+1], arr[j]\n",
    "                swapped=True\n",
    "\n",
    "        if not swapped:\n",
    "            print(\"Array is already sorted\")\n",
    "            break\n",
    "\n",
    "if __name__ == \"__main__\":\n",
    "    input_arr = [12,23,34,45,56,67,78,89,3,8,11,32,28]\n",
    "    print(\"Input Elements:\", input_arr)\n",
    "    BubbleSort(input_arr)\n",
    "    print(\"Sorted Elements:\", input_arr)"
   ]
  }
 ],
 "metadata": {
  "kernelspec": {
   "display_name": "Python 3",
   "language": "python",
   "name": "python3"
  },
  "language_info": {
   "codemirror_mode": {
    "name": "ipython",
    "version": 3
   },
   "file_extension": ".py",
   "mimetype": "text/x-python",
   "name": "python",
   "nbconvert_exporter": "python",
   "pygments_lexer": "ipython3",
   "version": "3.11.5"
  }
 },
 "nbformat": 4,
 "nbformat_minor": 2
}
