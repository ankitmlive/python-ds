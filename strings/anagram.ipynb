{
 "cells": [
  {
   "cell_type": "code",
   "execution_count": 3,
   "metadata": {},
   "outputs": [
    {
     "name": "stdout",
     "output_type": "stream",
     "text": [
      "Testing Sorted Technique\n",
      "String is Anagram\n",
      "String is Anagram\n",
      "String is not Anagram\n",
      "Testing Counter Technique\n",
      "String is Anagram\n",
      "String is Anagram\n",
      "String is not Anagram\n"
     ]
    }
   ],
   "source": [
    "# Finding Anagram Programme in Python\n",
    "\n",
    "# Sorted Technique\n",
    "def FindAnagram(s1, s2):\n",
    "    if len(s1) != len(s2):\n",
    "        print(\"String is not Anagram\")\n",
    "    \n",
    "    if sorted(s1) == sorted(s2):\n",
    "        print(\"String is Anagram\")\n",
    "    else:\n",
    "        print(\"String is not Anagram\")\n",
    "\n",
    "# Counter Technique\n",
    "def FindAnagramWithCounter(s1, s2):\n",
    "    from collections import Counter\n",
    "\n",
    "    if len(s1) != len(s2):\n",
    "        print(\"String is not Anagram\")\n",
    "    \n",
    "    if Counter(s1) == Counter(s2):\n",
    "        print(\"String is Anagram\")\n",
    "    else:\n",
    "        print(\"String is not Anagram\")\n",
    "\n",
    "# Testcases\n",
    "testcases = (\n",
    "    (\"adobe\", \"abode\"),\n",
    "    (\"race\", \"care\"),\n",
    "    (\"hello\", \"world\"),\n",
    ")\n",
    "\n",
    "print(\"Testing Sorted Technique\")\n",
    "for test in testcases:\n",
    "    FindAnagram(test[0], test[1])\n",
    "\n",
    "print(\"Testing Counter Technique\")\n",
    "for test in testcases:\n",
    "    FindAnagramWithCounter(test[0], test[1])\n"
   ]
  }
 ],
 "metadata": {
  "interpreter": {
   "hash": "a0a5145e6c304e2a9afaf5b930a2955b950bd4b81fe94f7c42930f43f42762eb"
  },
  "kernelspec": {
   "display_name": "Python 3.10.1 64-bit",
   "language": "python",
   "name": "python3"
  },
  "language_info": {
   "codemirror_mode": {
    "name": "ipython",
    "version": 3
   },
   "file_extension": ".py",
   "mimetype": "text/x-python",
   "name": "python",
   "nbconvert_exporter": "python",
   "pygments_lexer": "ipython3",
   "version": "3.10.1"
  },
  "orig_nbformat": 4
 },
 "nbformat": 4,
 "nbformat_minor": 2
}
