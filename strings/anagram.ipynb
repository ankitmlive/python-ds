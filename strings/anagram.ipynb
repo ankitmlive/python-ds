{
 "cells": [
  {
   "cell_type": "markdown",
   "metadata": {},
   "source": [
    "Anagram Problems in Python\n",
    "\n",
    "3 Technique is implemented"
   ]
  },
  {
   "cell_type": "code",
   "execution_count": 3,
   "metadata": {},
   "outputs": [
    {
     "name": "stdout",
     "output_type": "stream",
     "text": [
      "Testing Sorted Technique\n",
      "String is Anagram\n",
      "String is Anagram\n",
      "String is not Anagram\n",
      "Testing Counter Technique\n",
      "String is Anagram\n",
      "String is Anagram\n",
      "String is not Anagram\n"
     ]
    }
   ],
   "source": [
    "# Sorted Technique\n",
    "def FindAnagram(s1, s2):\n",
    "    if len(s1) != len(s2):\n",
    "        print(\"String is not Anagram\")\n",
    "    \n",
    "    if sorted(s1) == sorted(s2):\n",
    "        print(\"String is Anagram\")\n",
    "    else:\n",
    "        print(\"String is not Anagram\")\n",
    "\n",
    "# Counter Technique\n",
    "def FindAnagramWithCounter(s1, s2):\n",
    "    from collections import Counter\n",
    "\n",
    "    if len(s1) != len(s2):\n",
    "        print(\"String is not Anagram\")\n",
    "    \n",
    "    if Counter(s1) == Counter(s2):\n",
    "        print(\"String is Anagram\")\n",
    "    else:\n",
    "        print(\"String is not Anagram\")\n",
    "\n",
    "# Testcases\n",
    "testcases = (\n",
    "    (\"adobe\", \"abode\"),\n",
    "    (\"race\", \"care\"),\n",
    "    (\"hello\", \"world\"),\n",
    ")\n",
    "\n",
    "print(\"Testing Sorted Technique\")\n",
    "for test in testcases:\n",
    "    FindAnagram(test[0], test[1])\n",
    "\n",
    "print(\"Testing Counter Technique\")\n",
    "for test in testcases:\n",
    "    FindAnagramWithCounter(test[0], test[1])\n"
   ]
  },
  {
   "cell_type": "markdown",
   "metadata": {},
   "source": [
    "#### Anagram using HashMap"
   ]
  },
  {
   "cell_type": "code",
   "execution_count": 8,
   "metadata": {},
   "outputs": [
    {
     "name": "stdout",
     "output_type": "stream",
     "text": [
      "string is anagram: True\n",
      "string is anagram: True\n",
      "string is anagram: False\n"
     ]
    }
   ],
   "source": [
    "def checkAnagram(t1, t2):\n",
    "    # check if len is not equal\n",
    "    if len(t1) != len(t2):\n",
    "        return False\n",
    "    \n",
    "    # create hashmap from both strings\n",
    "    t1Hash, t2Hash = {}, {}\n",
    "    for i in range(len(t1)):\n",
    "        t1Hash[t1[i]] = t1Hash.get(t1[i], 0) + 1\n",
    "        t2Hash[t2[i]] = t2Hash.get(t2[i], 0) + 1\n",
    "\n",
    "    # check if hashes are same\n",
    "    return t1Hash == t2Hash\n",
    "\n",
    "# Testcases\n",
    "testcases = (\n",
    "    (\"adobe\", \"abode\"),\n",
    "    (\"race\", \"care\"),\n",
    "    (\"hello\", \"world\"),\n",
    ")\n",
    "for test in testcases:\n",
    "    res = checkAnagram(test[0], test[1])\n",
    "    print(f\"string is anagram: {res}\")"
   ]
  }
 ],
 "metadata": {
  "interpreter": {
   "hash": "a0a5145e6c304e2a9afaf5b930a2955b950bd4b81fe94f7c42930f43f42762eb"
  },
  "kernelspec": {
   "display_name": "Python 3.10.1 64-bit",
   "language": "python",
   "name": "python3"
  },
  "language_info": {
   "codemirror_mode": {
    "name": "ipython",
    "version": 3
   },
   "file_extension": ".py",
   "mimetype": "text/x-python",
   "name": "python",
   "nbconvert_exporter": "python",
   "pygments_lexer": "ipython3",
   "version": "3.11.5"
  },
  "orig_nbformat": 4
 },
 "nbformat": 4,
 "nbformat_minor": 2
}
