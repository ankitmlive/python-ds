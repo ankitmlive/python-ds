{
 "cells": [
  {
   "cell_type": "code",
   "execution_count": 1,
   "metadata": {},
   "outputs": [],
   "source": [
    "# Problem - 1 \n",
    "# Check if integer divisble by 7\n",
    "def isDivisibleby7(number: int):\n",
    "    if number%7 == 0:\n",
    "        return 1\n",
    "    return 0\n",
    "\n",
    "# testcases\n",
    "assert isDivisibleby7(5648605968956) == 0\n",
    "assert isDivisibleby7(1000) == 0\n",
    "assert isDivisibleby7(8955795758) == 1\n",
    "assert isDivisibleby7(9934535) == 0\n",
    "assert isDivisibleby7(70) == 1"
   ]
  }
 ],
 "metadata": {
  "interpreter": {
   "hash": "a0a5145e6c304e2a9afaf5b930a2955b950bd4b81fe94f7c42930f43f42762eb"
  },
  "kernelspec": {
   "display_name": "Python 3.10.1 64-bit",
   "language": "python",
   "name": "python3"
  },
  "language_info": {
   "codemirror_mode": {
    "name": "ipython",
    "version": 3
   },
   "file_extension": ".py",
   "mimetype": "text/x-python",
   "name": "python",
   "nbconvert_exporter": "python",
   "pygments_lexer": "ipython3",
   "version": "3.10.1"
  },
  "orig_nbformat": 4
 },
 "nbformat": 4,
 "nbformat_minor": 2
}
