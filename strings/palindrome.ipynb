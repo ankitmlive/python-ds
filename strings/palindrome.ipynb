{
 "cells": [
  {
   "cell_type": "markdown",
   "metadata": {},
   "source": [
    "### Palindrome check\n",
    "#### https://leetcode.com/problems/valid-palindrome/"
   ]
  },
  {
   "cell_type": "code",
   "execution_count": 2,
   "metadata": {},
   "outputs": [],
   "source": [
    "# Naive approch\n",
    "def validPalindrome(sttr):\n",
    "    newStr = \"\"\n",
    "    for char in sttr:\n",
    "        if char.isalnum():\n",
    "            newStr += char.lower()\n",
    "    return newStr == newStr[::-1]\n",
    "\n",
    "test_str = \"A man, a plan, a canal: Panama\"\n",
    "res = validPalindrome(test_str)\n",
    "assert res == True"
   ]
  },
  {
   "cell_type": "code",
   "execution_count": 14,
   "metadata": {},
   "outputs": [
    {
     "data": {
      "text/plain": [
       "True"
      ]
     },
     "execution_count": 14,
     "metadata": {},
     "output_type": "execute_result"
    }
   ],
   "source": [
    "# DS approach\n",
    "#TODO create a class and bind them together\n",
    "def isalphanum(char):\n",
    "   return (ord(\"A\") <= ord(char) <= ord(\"Z\") or\n",
    "        ord(\"a\") <= ord(char) <= ord(\"z\") or\n",
    "        ord(\"0\") <= ord(char) <= ord(\"9\")) \n",
    "\n",
    "def palindrome(word:str):\n",
    "   start, end = 0, len(word)-1\n",
    "   while start < end:\n",
    "    if not isalphanum(word[start]):\n",
    "       start += 1\n",
    "       continue\n",
    "    if not isalphanum(word[end]):\n",
    "        end -= 1\n",
    "        continue\n",
    "    if word[start].lower() != word[end].lower():\n",
    "        return False\n",
    "    start += 1\n",
    "    end -= 1\n",
    "   return True\n",
    "\n",
    "palindrome(test_str)"
   ]
  }
 ],
 "metadata": {
  "kernelspec": {
   "display_name": "Python 3",
   "language": "python",
   "name": "python3"
  },
  "language_info": {
   "codemirror_mode": {
    "name": "ipython",
    "version": 3
   },
   "file_extension": ".py",
   "mimetype": "text/x-python",
   "name": "python",
   "nbconvert_exporter": "python",
   "pygments_lexer": "ipython3",
   "version": "3.11.5"
  }
 },
 "nbformat": 4,
 "nbformat_minor": 2
}
