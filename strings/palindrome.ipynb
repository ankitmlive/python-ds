{
 "cells": [
  {
   "cell_type": "markdown",
   "metadata": {},
   "source": [
    "### Palindrome check\n",
    "#### https://leetcode.com/problems/valid-palindrome/"
   ]
  },
  {
   "cell_type": "code",
   "execution_count": 2,
   "metadata": {},
   "outputs": [],
   "source": [
    "# Naive approch\n",
    "def validPalindrome(sttr):\n",
    "    newStr = \"\"\n",
    "    for char in sttr:\n",
    "        if char.isalnum():\n",
    "            newStr += char.lower()\n",
    "    return newStr == newStr[::-1]\n",
    "\n",
    "test_str = \"A man, a plan, a canal: Panama\"\n",
    "res = validPalindrome(test_str)\n",
    "assert res == True"
   ]
  }
 ],
 "metadata": {
  "kernelspec": {
   "display_name": "Python 3",
   "language": "python",
   "name": "python3"
  },
  "language_info": {
   "codemirror_mode": {
    "name": "ipython",
    "version": 3
   },
   "file_extension": ".py",
   "mimetype": "text/x-python",
   "name": "python",
   "nbconvert_exporter": "python",
   "pygments_lexer": "ipython3",
   "version": "3.11.5"
  }
 },
 "nbformat": 4,
 "nbformat_minor": 2
}
