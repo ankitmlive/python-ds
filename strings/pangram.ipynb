{
 "cells": [
  {
   "cell_type": "code",
   "execution_count": 1,
   "metadata": {},
   "outputs": [],
   "source": [
    "# Pangram Checking \n",
    "# A Panagram is a string which uses every letter of a alphabet at least once\n",
    "# Time Complexictiyt: O(N)\n",
    "# Space Complexictiyt: O(26)\n",
    "\n",
    "# Method -1 \n",
    "def CheckPangram(string: str):\n",
    "    alpha = \"abcdefghijklmnopqrstuvwxyz\"\n",
    "    string = string.lower()\n",
    "\n",
    "    for a in alpha:\n",
    "        if a in string:\n",
    "            continue\n",
    "        else:\n",
    "            return 0\n",
    "    return 1\n",
    "\n",
    "# Method -2\n",
    "def CheckPangram2(string: str):\n",
    "       string = string.lower()\n",
    "       alpha = {word for word in string if word.isalpha()}\n",
    "       if len(alpha)==26:\n",
    "           return 1\n",
    "       else:\n",
    "           return 0\n",
    "\n",
    "assert CheckPangram(\"Bawds jog, flick quartz, vex nymph\") == 1\n",
    "assert CheckPangram(\"Hello, World, asdf\") == 0\n",
    "\n",
    "assert CheckPangram2(\"Bawds jog, flick quartz, vex nymph\") == 1\n",
    "assert CheckPangram2(\"Hello, World, asdf\") == 0"
   ]
  }
 ],
 "metadata": {
  "interpreter": {
   "hash": "a0a5145e6c304e2a9afaf5b930a2955b950bd4b81fe94f7c42930f43f42762eb"
  },
  "kernelspec": {
   "display_name": "Python 3.10.1 64-bit",
   "language": "python",
   "name": "python3"
  },
  "language_info": {
   "codemirror_mode": {
    "name": "ipython",
    "version": 3
   },
   "file_extension": ".py",
   "mimetype": "text/x-python",
   "name": "python",
   "nbconvert_exporter": "python",
   "pygments_lexer": "ipython3",
   "version": "3.10.1"
  },
  "orig_nbformat": 4
 },
 "nbformat": 4,
 "nbformat_minor": 2
}
