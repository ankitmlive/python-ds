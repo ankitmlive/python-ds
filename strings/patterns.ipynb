{
 "cells": [
  {
   "cell_type": "code",
   "execution_count": 2,
   "metadata": {},
   "outputs": [
    {
     "name": "stdout",
     "output_type": "stream",
     "text": [
      "1 \n",
      "2 3 \n",
      "4 5 6 \n",
      "7 8 9 10 \n",
      "11 12 13 14 15 \n",
      "16 17 18 19 20 21 \n"
     ]
    }
   ],
   "source": [
    "\"\"\"\n",
    "Print a pattern where increasing numbers will be printed in each line.eg.\n",
    "1\n",
    "2 3\n",
    "4 5 6\n",
    "\"\"\"\n",
    "def printNum(n):\n",
    "    number = 1\n",
    "    for line in range(1, n+1):\n",
    "        for l in range(1, line+1):\n",
    "            print(number, end=\" \")\n",
    "            number += 1\n",
    "        print(\"\")\n",
    "                 \n",
    "printNum(6)"
   ]
  }
 ],
 "metadata": {
  "kernelspec": {
   "display_name": "Python 3",
   "language": "python",
   "name": "python3"
  },
  "language_info": {
   "codemirror_mode": {
    "name": "ipython",
    "version": 3
   },
   "file_extension": ".py",
   "mimetype": "text/x-python",
   "name": "python",
   "nbconvert_exporter": "python",
   "pygments_lexer": "ipython3",
   "version": "3.11.5"
  }
 },
 "nbformat": 4,
 "nbformat_minor": 2
}
