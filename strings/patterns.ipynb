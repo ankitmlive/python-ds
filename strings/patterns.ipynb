{
 "cells": [
  {
   "cell_type": "code",
   "execution_count": null,
   "metadata": {},
   "outputs": [],
   "source": [
    "\"\"\"\n",
    "Print a pattern where increasing numbers will be printed in each line.eg.\n",
    "1\n",
    "2 3\n",
    "4 5 6\n",
    "\"\"\"\n",
    "\n",
    "def printNum(n):\n",
    "    number = 1\n",
    "    for line in range(1, n+1):\n",
    "        for l in range(1, line+1):\n",
    "            print(number, end=\" \")\n",
    "            number += 1\n",
    "        print(\"\")\n",
    "            \n",
    "        \n",
    "printNum(6)"
   ]
  }
 ],
 "metadata": {
  "language_info": {
   "name": "python"
  }
 },
 "nbformat": 4,
 "nbformat_minor": 2
}
