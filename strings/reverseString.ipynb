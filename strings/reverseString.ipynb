{
 "cells": [
  {
   "cell_type": "markdown",
   "metadata": {},
   "source": [
    "## Word Reverse Problem's in Python\n",
    "\n",
    "### Problem - 1 \n",
    "##### Reverse Words withput affecting the sentence\n",
    "##### Time Complexictiyt: O(N)\n",
    "##### Space Complexictiyt: O(N)"
   ]
  },
  {
   "cell_type": "code",
   "execution_count": 2,
   "metadata": {},
   "outputs": [
    {
     "name": "stdout",
     "output_type": "stream",
     "text": [
      "Expected Reversed Words: much.very.program.this.like.I\n"
     ]
    }
   ],
   "source": [
    "def ReverseWords(string: str):\n",
    "    lyst = string.split(\".\")\n",
    "    # len() function in Python runs in O(1) complexity\n",
    "    n = len(lyst)\n",
    "    new_list = []\n",
    "\n",
    "    # Time Complexicity: O(N)\n",
    "    for i in range(n):\n",
    "        # time complexicity of list append is O(1)\n",
    "        new_list.append(lyst[n-i-1])\n",
    "    return \".\".join(new_list)\n",
    "\n",
    "print(\"Expected Reversed Words:\", ReverseWords(\"I.like.this.program.very.much\"))"
   ]
  },
  {
   "cell_type": "markdown",
   "metadata": {},
   "source": [
    "### Problem - 2\n",
    "##### Write a function that reverses a string. The input string is given as an array of characters s.\n",
    "##### You must do this by modifying the input array in-place with O(1) extra memory.\n",
    "###### Link: https://leetcode.com/problems/reverse-string/ (Reverse String I)\n" https://leetcode.com/problems/reverse-words-in-a-string/,
    "### Example:\n",
    "###     Input: s = [\"h\",\"e\",\"l\",\"l\",\"o\"]\n",
    "###     Output: [\"o\",\"l\",\"l\",\"e\",\"h\"]"
   ]
  },
  {
   "cell_type": "code",
   "execution_count": 3,
   "metadata": {},
   "outputs": [
    {
     "name": "stdout",
     "output_type": "stream",
     "text": [
      "['o', 'l', 'l', 'e', 'h']\n",
      "['l', 'a', 'n', 'i', 'm', 'r', 'e', 't']\n"
     ]
    }
   ],
   "source": [
    "def reverseString(s) -> None:\n",
    "    \"\"\"\n",
    "    Do not return anything, modify s in-place instead.\n",
    "    \"\"\"\n",
    "    n = len(s)\n",
    "    mid = (n//2)\n",
    "    for i in range(mid):\n",
    "        s[i], s[n-i-1] = s[n-i-1], s[i]\n",
    "\n",
    "s = [\"h\",\"e\",\"l\",\"l\",\"o\"]\n",
    "s2 = [\"t\",\"e\",\"r\",\"m\",\"i\", \"n\", \"a\", \"l\"]\n",
    "reverseString(s)\n",
    "reverseString(s2)\n",
    "print(s)\n",
    "print(s2)"
   ]
  },
  {
   "cell_type": "markdown",
   "metadata": {},
   "source": [
    "### Problem - 3\n",
    "##### Given a string s and an integer k, reverse the first k characters for every 2k characters counting from the start of the string.\n",
    "##### If there are fewer than k characters left, reverse all of them. If there are less than 2k but greater than or equal to k characters, then reverse the first k characters and leave the other as original.\n",
    "###### Link: (Reverse String II)\n",
    "#### Example:\n",
    "#####    Input: s = \"abcdefg\", k = 2\n",
    "#####    Output: \"bacdfeg\""
   ]
  },
  {
   "cell_type": "code",
   "execution_count": 2,
   "metadata": {},
   "outputs": [
    {
     "name": "stdout",
     "output_type": "stream",
     "text": [
      "BAcdFEghJIkl\n"
     ]
    }
   ],
   "source": [
    "def reverseStr(ss: str, k: int) -> str:\n",
    "    index, n = 0, len(ss)\n",
    "    while index < n:\n",
    "        if k > n:\n",
    "            ss = ss[::-1]\n",
    "        elif 2*k > n and k <= n:\n",
    "            ss = ss[(k+index)-1::-1] + ss[k:]\n",
    "        else:\n",
    "            st = ss[index:index+k]\n",
    "            ss = ss[:index]+st[::-1]+ss[index+k:]\n",
    "        index += 2*k\n",
    "    return ss\n",
    "\n",
    "# Execution\n",
    "ss = \"ABcdEFghIJkl\"\n",
    "k = 2\n",
    "print(reverseStr(ss,k))"
   ]
  },
  {
   "cell_type": "markdown",
   "metadata": {},
   "source": [
    "### Problem - 4\n",
    "##### Reverse the string without affecting charector position.\n",
    "#### Example:\n",
    "#####   input = H#*E@L&L!O\n",
    "#####   output = O#*L@L&E!H"
   ]
  },
  {
   "cell_type": "code",
   "execution_count": null,
   "metadata": {},
   "outputs": [],
   "source": [
    "def reverseStringWithCharector(ss: str) -> str:\n",
    "    pass"
   ]
  }
 ],
 "metadata": {
  "interpreter": {
   "hash": "a0a5145e6c304e2a9afaf5b930a2955b950bd4b81fe94f7c42930f43f42762eb"
  },
  "kernelspec": {
   "display_name": "Python 3.10.1 64-bit",
   "language": "python",
   "name": "python3"
  },
  "language_info": {
   "codemirror_mode": {
    "name": "ipython",
    "version": 3
   },
   "file_extension": ".py",
   "mimetype": "text/x-python",
   "name": "python",
   "nbconvert_exporter": "python",
   "pygments_lexer": "ipython3",
   "version": "3.10.1"
  },
  "orig_nbformat": 4
 },
 "nbformat": 4,
 "nbformat_minor": 2
}
