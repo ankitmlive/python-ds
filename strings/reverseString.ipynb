{
 "cells": [
  {
   "cell_type": "markdown",
   "metadata": {},
   "source": [
    "Word Reverse Problem's in Python\n",
    "\n",
    "Problem -1 \n",
    "Reverse Words withput affecting the sentence\n",
    "Time Complexictiyt: O(N)\n",
    "Space Complexictiyt: O(N)"
   ]
  },
  {
   "cell_type": "code",
   "execution_count": 2,
   "metadata": {},
   "outputs": [
    {
     "name": "stdout",
     "output_type": "stream",
     "text": [
      "Expected Reversed Words: much.very.program.this.like.I\n"
     ]
    }
   ],
   "source": [
    "def ReverseWords(string: str):\n",
    "    lyst = string.split(\".\")\n",
    "    # len() function in Python runs in O(1) complexity\n",
    "    n = len(lyst)\n",
    "    new_list = []\n",
    "\n",
    "    # Time Complexicity: O(N)\n",
    "    for i in range(n):\n",
    "        # time complexicity of list append is O(1)\n",
    "        new_list.append(lyst[n-i-1])\n",
    "    return \".\".join(new_list)\n",
    "\n",
    "print(\"Expected Reversed Words:\", ReverseWords(\"I.like.this.program.very.much\"))"
   ]
  },
  {
   "cell_type": "markdown",
   "metadata": {},
   "source": []
  }
 ],
 "metadata": {
  "interpreter": {
   "hash": "a0a5145e6c304e2a9afaf5b930a2955b950bd4b81fe94f7c42930f43f42762eb"
  },
  "kernelspec": {
   "display_name": "Python 3.10.1 64-bit",
   "language": "python",
   "name": "python3"
  },
  "language_info": {
   "codemirror_mode": {
    "name": "ipython",
    "version": 3
   },
   "file_extension": ".py",
   "mimetype": "text/x-python",
   "name": "python",
   "nbconvert_exporter": "python",
   "pygments_lexer": "ipython3",
   "version": "3.10.1"
  },
  "orig_nbformat": 4
 },
 "nbformat": 4,
 "nbformat_minor": 2
}
