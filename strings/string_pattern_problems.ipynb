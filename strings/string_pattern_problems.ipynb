{
 "cells": [
  {
   "cell_type": "code",
   "execution_count": 9,
   "metadata": {},
   "outputs": [
    {
     "name": "stdout",
     "output_type": "stream",
     "text": [
      "MystWord1 MyWord12 MyFourthWord456 MySixWord78\n"
     ]
    }
   ],
   "source": [
    "\"\"\"\" \n",
    "write a function which gives the result as mentioned below\n",
    "input : My1stWord My12Word My456FourthWord MySix78Word\n",
    "output : MystWord1 MyWord12 MyFourthWord456 MySixWord78\n",
    "\"\"\"\n",
    "\n",
    "def separate_words(string):\n",
    "    word_list = string.split(\" \")\n",
    "    for index in range(len(word_list)):\n",
    "        str_pivot = \"\"\n",
    "        int_pivot = \"\"\n",
    "        for word in word_list[index]:\n",
    "            if word.isalpha():\n",
    "                str_pivot += word\n",
    "            else:\n",
    "                int_pivot += str(word)\n",
    "        word_list[index] = str_pivot + int_pivot\n",
    "    return \" \".join(word_list)\n",
    "\n",
    "input = \"My1stWord My12Word My456FourthWord MySix78Word\"\n",
    "output = \"MystWord1 MyWord12 MyFourthWord456 MySixWord78\"\n",
    "\n",
    "result = separate_words(input)\n",
    "print(result)\n",
    "assert result == output\n",
    "        "
   ]
  }
 ],
 "metadata": {
  "kernelspec": {
   "display_name": "Python 3",
   "language": "python",
   "name": "python3"
  },
  "language_info": {
   "codemirror_mode": {
    "name": "ipython",
    "version": 3
   },
   "file_extension": ".py",
   "mimetype": "text/x-python",
   "name": "python",
   "nbconvert_exporter": "python",
   "pygments_lexer": "ipython3",
   "version": "3.11.5"
  }
 },
 "nbformat": 4,
 "nbformat_minor": 2
}
