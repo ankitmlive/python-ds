{
 "cells": [
  {
   "cell_type": "markdown",
   "metadata": {},
   "source": [
    "### System Design Roadmap"
   ]
  },
  {
   "cell_type": "markdown",
   "metadata": {},
   "source": [
    "* Functional Requirement\n",
    "* Non Functional Requirement\n",
    "* Stateful vs Stateless Architecture\n",
    "* Event driven Architecture\n",
    "* Load Balancer/API Gateway\n",
    "* Database Sharding\n",
    "* Consistent Hashing\n",
    "* Message Queues eg. Kafka\n",
    "* SQL/NoSQL databases\n",
    "* API Design"
   ]
  }
 ],
 "metadata": {
  "language_info": {
   "name": "python"
  }
 },
 "nbformat": 4,
 "nbformat_minor": 2
}
