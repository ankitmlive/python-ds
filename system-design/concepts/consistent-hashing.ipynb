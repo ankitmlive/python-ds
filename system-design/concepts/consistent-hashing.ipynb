{
 "cells": [
  {
   "cell_type": "markdown",
   "metadata": {},
   "source": [
    "##### https://arpitbhayani.me/blogs/consistent-hashing/\n",
    "![Consistent Hashing](https://raw.githubusercontent.com/ankitmlive/python-ds/main/system-design/media/consistent-hashing.png)"
   ]
  }
 ],
 "metadata": {
  "language_info": {
   "name": "python"
  }
 },
 "nbformat": 4,
 "nbformat_minor": 2
}
