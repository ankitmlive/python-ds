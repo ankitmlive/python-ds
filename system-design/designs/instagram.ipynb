{
 "cells": [
  {
   "cell_type": "markdown",
   "metadata": {},
   "source": [
    "## Instagram - System Design"
   ]
  },
  {
   "cell_type": "markdown",
   "metadata": {},
   "source": [
    "### Requirements\n",
    "\n",
    "* user can create accounts\n",
    "* user can follow each other\n",
    "* user can post an image/video\n",
    "* user can delete a post\n",
    "..."
   ]
  },
  {
   "cell_type": "markdown",
   "metadata": {},
   "source": [
    "#### API Design\n",
    "\n",
    "Post\n",
    "`\n",
    "/v1/posts/ (POST) ==> Create post\n",
    "/v1/posts/ (GET) ==> get all posts of logged in user\n",
    "`\n",
    "\n",
    "Images\n",
    "\n",
    "\n",
    "Feeds\n",
    "`\n",
    "/v1/feeds/ (GET) ==> get all latest posts of logged in user\n",
    "`"
   ]
  },
  {
   "cell_type": "markdown",
   "metadata": {},
   "source": [
    "#### Database Schema\n"
   ]
  }
 ],
 "metadata": {
  "language_info": {
   "name": "python"
  }
 },
 "nbformat": 4,
 "nbformat_minor": 2
}
