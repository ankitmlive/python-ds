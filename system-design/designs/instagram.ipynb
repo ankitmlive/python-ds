{
 "cells": [
  {
   "cell_type": "markdown",
   "metadata": {},
   "source": [
    "#### Instagram"
   ]
  },
  {
   "cell_type": "markdown",
   "metadata": {},
   "source": [
    "#### API Design\n",
    "\n",
    "Post\n",
    "`\n",
    "/v1/posts/ (POST) ==> Create post\n",
    "/v1/posts/ (GET) ==> get all posts of logged in user\n",
    "`\n",
    "\n",
    "Images\n",
    "\n",
    "\n",
    "Feeds\n",
    "`\n",
    "/v1/feeds/ (GET) ==> get all latest posts of logged in user\n",
    "`"
   ]
  },
  {
   "cell_type": "markdown",
   "metadata": {},
   "source": [
    "#### Database Schema\n"
   ]
  }
 ],
 "metadata": {
  "language_info": {
   "name": "python"
  }
 },
 "nbformat": 4,
 "nbformat_minor": 2
}
